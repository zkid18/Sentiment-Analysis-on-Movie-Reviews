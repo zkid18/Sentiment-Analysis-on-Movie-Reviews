{
 "cells": [
  {
   "cell_type": "code",
   "execution_count": 1,
   "metadata": {},
   "outputs": [
    {
     "name": "stdout",
     "output_type": "stream",
     "text": [
      "Populating the interactive namespace from numpy and matplotlib\n"
     ]
    }
   ],
   "source": [
    "%matplotlib inline\n",
    "%pylab inline\n",
    "from sklearn.datasets import load_files\n",
    "import os\n",
    "import re\n",
    "from __future__ import division\n",
    "import numpy as np"
   ]
  },
  {
   "cell_type": "code",
   "execution_count": 3,
   "metadata": {
    "collapsed": true
   },
   "outputs": [],
   "source": [
    "PATH_TO_DATA = './data/review_polarity/txt_sentoken'"
   ]
  },
  {
   "cell_type": "code",
   "execution_count": 4,
   "metadata": {},
   "outputs": [
    {
     "name": "stdout",
     "output_type": "stream",
     "text": [
      " 11M\t./data/review_polarity/txt_sentoken\r\n"
     ]
    }
   ],
   "source": [
    "!du -hs $PATH_TO_DATA"
   ]
  },
  {
   "cell_type": "code",
   "execution_count": 5,
   "metadata": {},
   "outputs": [
    {
     "name": "stdout",
     "output_type": "stream",
     "text": [
      "5,2M\t./data/review_polarity/txt_sentoken/neg\r\n"
     ]
    }
   ],
   "source": [
    "!du -hs $PATH_TO_DATA/neg"
   ]
  },
  {
   "cell_type": "code",
   "execution_count": 6,
   "metadata": {},
   "outputs": [
    {
     "name": "stdout",
     "output_type": "stream",
     "text": [
      "5,8M\t./data/review_polarity/txt_sentoken/pos\r\n"
     ]
    }
   ],
   "source": [
    "!du -hs $PATH_TO_DATA/pos"
   ]
  },
  {
   "cell_type": "code",
   "execution_count": 7,
   "metadata": {
    "collapsed": true
   },
   "outputs": [],
   "source": [
    "reviews = load_files(os.path.join(PATH_TO_DATA))"
   ]
  },
  {
   "cell_type": "markdown",
   "metadata": {},
   "source": [
    "The dataset conisits of 2000 reviews"
   ]
  },
  {
   "cell_type": "code",
   "execution_count": 8,
   "metadata": {},
   "outputs": [
    {
     "data": {
      "text/plain": [
       "2000"
      ]
     },
     "execution_count": 8,
     "metadata": {},
     "output_type": "execute_result"
    }
   ],
   "source": [
    "len(reviews.data)"
   ]
  },
  {
   "cell_type": "markdown",
   "metadata": {},
   "source": [
    "Review example"
   ]
  },
  {
   "cell_type": "code",
   "execution_count": 9,
   "metadata": {},
   "outputs": [
    {
     "data": {
      "text/plain": [
       "\"good films are hard to find these days . \\ngreat films are beyond rare . \\nproof of life , russell crowe's one-two punch of a deft kidnap and rescue thriller , is one of those rare gems . \\na taut drama laced with strong and subtle acting , an intelligent script , and masterful directing , together it delivers something virtually unheard of in the film industry these days , genuine motivation in a story that rings true . \\nconsider the strange coincidence of russell crowe's character in proof of life making the moves on a distraught wife played by meg ryan's character in the film -- all while the real russell crowe was hitching up with married woman meg ryan in the outside world . \\ni haven't seen this much chemistry between actors since mcqueen and mcgraw teamed up in peckinpah's masterpiece , the getaway. \\nbut enough with the gossip , let's get to the review . \\nthe film revolves around the kidnapping of peter bowman ( david morse ) , an american engineer working in south america who is kidnapped during a mass ambush of civilians by anti-government soldiers . \\nupon discovering his identity , the rebel soldiers decide to ransom him for $6 million . \\nthe only problem is that the company peter bowman works for is being auctioned off , and no one will step forward with the money . \\nwith no choice available to her , bowman's wife alice ( ryan ) hires terry thorne ( crowe ) , a highly skilled negotiator and rescue operative , to arrange the return of her husband . \\nbut when things go wrong -- as they always do in these situations -- terry and his team ( which includes the most surprising casting choice of the year : david caruso ) take matters into their own hands . \\nthe film is notable in that it takes this very simple story line and creates a complex and intelligent character-driven vehicle filled with well-written dialogue , shades of motivation , and convincing acting by all the actors . \\nthe script is based on both a book ( the long march to freedom ) and a magazine article pertaining to kidnap/ransom situations , and the story has been sharply pieced together by tony gilroy , screenwriter of the devil's advocate and dolores claiborne . \\nthe biggest surprise for me was not the chemistry between crowe and ryan , but that between crowe and david caruso . \\ndug out from b-movie hell , caruso pulls off a gutsy performance as crowe's right hand gun while providing most of the film's humor . \\nryan cries a lot and smokes too many cigarettes , david morse ends up getting everyone at the guerilla camp to hate him , and crowe provides another memorable acting turn as the stoic , gunslinger character of terry thorne . \\nthe most memorable pieces of the film lie in its action scenes . \\nthe bulk of those scenes , which bookend the movie , work extremely well as establishment and closure devices for all of the story's characters . \\nthe scenes are skillfully crafted and executed with amazing accuracy and poise . \\ndirector taylor hackford mixes both his old-school style of filmmaking with the dizziness of a lars von trier film . \\nproof of life is a thinking man's action movie . \\nit is a film about the choices men and women make in the face of love and war , and the sacrifices one makes for those choices -- the sacrifices that help you sleep at night . \\n\""
      ]
     },
     "execution_count": 9,
     "metadata": {},
     "output_type": "execute_result"
    }
   ],
   "source": [
    "reviews.data[1]"
   ]
  },
  {
   "cell_type": "markdown",
   "metadata": {},
   "source": [
    "Target example"
   ]
  },
  {
   "cell_type": "code",
   "execution_count": 10,
   "metadata": {},
   "outputs": [
    {
     "data": {
      "text/plain": [
       "1"
      ]
     },
     "execution_count": 10,
     "metadata": {},
     "output_type": "execute_result"
    }
   ],
   "source": [
    "reviews.target[1]"
   ]
  },
  {
   "cell_type": "markdown",
   "metadata": {},
   "source": [
    "As we can see the samples are balanced"
   ]
  },
  {
   "cell_type": "code",
   "execution_count": 11,
   "metadata": {},
   "outputs": [
    {
     "data": {
      "text/plain": [
       "1.0"
      ]
     },
     "execution_count": 11,
     "metadata": {},
     "output_type": "execute_result"
    }
   ],
   "source": [
    "len(reviews.target[reviews.target==0]) / len(reviews.target[reviews.target==1])"
   ]
  },
  {
   "cell_type": "code",
   "execution_count": 12,
   "metadata": {
    "collapsed": true
   },
   "outputs": [],
   "source": [
    "from sklearn.model_selection import train_test_split"
   ]
  },
  {
   "cell_type": "code",
   "execution_count": 13,
   "metadata": {
    "collapsed": true
   },
   "outputs": [],
   "source": [
    "X_train, X_test, y_train, y_test = train_test_split(reviews.data, reviews.target, test_size = 0.2, train_size = 0.8, random_state = 17) "
   ]
  },
  {
   "cell_type": "code",
   "execution_count": 14,
   "metadata": {},
   "outputs": [
    {
     "name": "stdout",
     "output_type": "stream",
     "text": [
      "1600\n",
      "400\n"
     ]
    }
   ],
   "source": [
    "print len(X_train)\n",
    "print len(X_test)"
   ]
  },
  {
   "cell_type": "code",
   "execution_count": 15,
   "metadata": {},
   "outputs": [
    {
     "name": "stdout",
     "output_type": "stream",
     "text": [
      "1600\n",
      "400\n"
     ]
    }
   ],
   "source": [
    "print len(y_train)\n",
    "print len(y_test)"
   ]
  },
  {
   "cell_type": "markdown",
   "metadata": {},
   "source": [
    "Sample is balanced"
   ]
  },
  {
   "cell_type": "code",
   "execution_count": 16,
   "metadata": {},
   "outputs": [
    {
     "data": {
      "text/plain": [
       "(array([204, 196]), array([796, 804]))"
      ]
     },
     "execution_count": 16,
     "metadata": {},
     "output_type": "execute_result"
    }
   ],
   "source": [
    "np.bincount(y_test), np.bincount(y_train)"
   ]
  },
  {
   "cell_type": "markdown",
   "metadata": {},
   "source": [
    "## Bag of words model"
   ]
  },
  {
   "cell_type": "markdown",
   "metadata": {},
   "source": [
    "We cannot work with text directly when using machine learning algorithms.\n",
    "Instead, we need to convert the text to numbers."
   ]
  },
  {
   "cell_type": "markdown",
   "metadata": {},
   "source": [
    "### CountVectorizer"
   ]
  },
  {
   "cell_type": "markdown",
   "metadata": {},
   "source": [
    "The CountVectorizer provides a simple way to both tokenize a collection of text documents and build a vocabulary of known words, but also to encode new documents using that vocabulary."
   ]
  },
  {
   "cell_type": "code",
   "execution_count": 17,
   "metadata": {
    "collapsed": true
   },
   "outputs": [],
   "source": [
    "from sklearn.feature_extraction.text import CountVectorizer"
   ]
  },
  {
   "cell_type": "code",
   "execution_count": 18,
   "metadata": {},
   "outputs": [
    {
     "name": "stdout",
     "output_type": "stream",
     "text": [
      "CPU times: user 5.03 s, sys: 230 ms, total: 5.26 s\n",
      "Wall time: 5.3 s\n"
     ]
    }
   ],
   "source": [
    "%%time\n",
    "cv = CountVectorizer(ngram_range=(1,2))\n",
    "X_train_sparse = cv.fit_transform(X_train)"
   ]
  },
  {
   "cell_type": "markdown",
   "metadata": {},
   "source": [
    "Unique words"
   ]
  },
  {
   "cell_type": "code",
   "execution_count": 19,
   "metadata": {},
   "outputs": [
    {
     "data": {
      "text/plain": [
       "457354"
      ]
     },
     "execution_count": 19,
     "metadata": {},
     "output_type": "execute_result"
    }
   ],
   "source": [
    "len(cv.vocabulary_)"
   ]
  },
  {
   "cell_type": "code",
   "execution_count": 20,
   "metadata": {},
   "outputs": [
    {
     "name": "stdout",
     "output_type": "stream",
     "text": [
      "CPU times: user 606 ms, sys: 23.6 ms, total: 629 ms\n",
      "Wall time: 615 ms\n"
     ]
    }
   ],
   "source": [
    "%%time\n",
    "X_test_sparse = cv.transform(X_test)"
   ]
  },
  {
   "cell_type": "code",
   "execution_count": 21,
   "metadata": {},
   "outputs": [
    {
     "data": {
      "text/plain": [
       "457354"
      ]
     },
     "execution_count": 21,
     "metadata": {},
     "output_type": "execute_result"
    }
   ],
   "source": [
    "len(cv.vocabulary_)"
   ]
  },
  {
   "cell_type": "code",
   "execution_count": 22,
   "metadata": {},
   "outputs": [
    {
     "name": "stdout",
     "output_type": "stream",
     "text": [
      "(400, 457354)\n",
      "(1600, 457354)\n"
     ]
    }
   ],
   "source": [
    "print X_test_sparse.shape\n",
    "print X_train_sparse.shape"
   ]
  },
  {
   "cell_type": "code",
   "execution_count": 27,
   "metadata": {
    "collapsed": true
   },
   "outputs": [],
   "source": [
    "from sklearn.linear_model import LogisticRegression, SGDClassifier\n",
    "from sklearn.metrics import accuracy_score, roc_auc_score, roc_curve, confusion_matrix"
   ]
  },
  {
   "cell_type": "markdown",
   "metadata": {},
   "source": [
    "### Logistic regression"
   ]
  },
  {
   "cell_type": "code",
   "execution_count": 24,
   "metadata": {
    "collapsed": true
   },
   "outputs": [],
   "source": [
    "logit = LogisticRegression(random_state=17,n_jobs=-1, solver='lbfgs')"
   ]
  },
  {
   "cell_type": "code",
   "execution_count": 25,
   "metadata": {},
   "outputs": [
    {
     "name": "stdout",
     "output_type": "stream",
     "text": [
      "CPU times: user 3 µs, sys: 0 ns, total: 3 µs\n",
      "Wall time: 7.15 µs\n"
     ]
    },
    {
     "data": {
      "text/plain": [
       "LogisticRegression(C=1.0, class_weight=None, dual=False, fit_intercept=True,\n",
       "          intercept_scaling=1, max_iter=100, multi_class='ovr', n_jobs=-1,\n",
       "          penalty='l2', random_state=17, solver='lbfgs', tol=0.0001,\n",
       "          verbose=0, warm_start=False)"
      ]
     },
     "execution_count": 25,
     "metadata": {},
     "output_type": "execute_result"
    }
   ],
   "source": [
    "%time\n",
    "logit.fit(X_train_sparse, y_train)"
   ]
  },
  {
   "cell_type": "code",
   "execution_count": 28,
   "metadata": {},
   "outputs": [
    {
     "name": "stdout",
     "output_type": "stream",
     "text": [
      "Accuracy: 0.815\n",
      "AUC: 0.815\n"
     ]
    }
   ],
   "source": [
    "print \"Accuracy: {}\".format(round(accuracy_score(y_test, logit.predict(X_test_sparse)), 3))\n",
    "print \"AUC: {}\".format(round(roc_auc_score(y_test, logit.predict(X_test_sparse)), 3))"
   ]
  },
  {
   "cell_type": "markdown",
   "metadata": {},
   "source": [
    "### SGD classifier"
   ]
  },
  {
   "cell_type": "code",
   "execution_count": 29,
   "metadata": {},
   "outputs": [
    {
     "data": {
      "text/plain": [
       "625.0"
      ]
     },
     "execution_count": 29,
     "metadata": {},
     "output_type": "execute_result"
    }
   ],
   "source": [
    "10 ** 6 / X_train_sparse.shape[0]"
   ]
  },
  {
   "cell_type": "code",
   "execution_count": 30,
   "metadata": {
    "collapsed": true
   },
   "outputs": [],
   "source": [
    "sgd_logit = SGDClassifier(max_iter=625,random_state=17,n_jobs=-1)"
   ]
  },
  {
   "cell_type": "code",
   "execution_count": 31,
   "metadata": {},
   "outputs": [
    {
     "name": "stdout",
     "output_type": "stream",
     "text": [
      "CPU times: user 2 µs, sys: 0 ns, total: 2 µs\n",
      "Wall time: 7.15 µs\n"
     ]
    },
    {
     "data": {
      "text/plain": [
       "SGDClassifier(alpha=0.0001, average=False, class_weight=None, epsilon=0.1,\n",
       "       eta0=0.0, fit_intercept=True, l1_ratio=0.15,\n",
       "       learning_rate='optimal', loss='hinge', max_iter=625, n_iter=None,\n",
       "       n_jobs=-1, penalty='l2', power_t=0.5, random_state=17, shuffle=True,\n",
       "       tol=None, verbose=0, warm_start=False)"
      ]
     },
     "execution_count": 31,
     "metadata": {},
     "output_type": "execute_result"
    }
   ],
   "source": [
    "%time\n",
    "sgd_logit.fit(X_train_sparse, y_train)"
   ]
  },
  {
   "cell_type": "code",
   "execution_count": 32,
   "metadata": {},
   "outputs": [
    {
     "name": "stdout",
     "output_type": "stream",
     "text": [
      "Accuracy: 0.805\n",
      "AUC: 0.806\n"
     ]
    }
   ],
   "source": [
    "print \"Accuracy: {}\".format(round(accuracy_score(y_test, sgd_logit.predict(X_test_sparse)), 3))\n",
    "print \"AUC: {}\".format(round(roc_auc_score(y_test, sgd_logit.predict(X_test_sparse)), 3))"
   ]
  },
  {
   "cell_type": "markdown",
   "metadata": {},
   "source": [
    "### SVM"
   ]
  },
  {
   "cell_type": "code",
   "execution_count": 33,
   "metadata": {
    "collapsed": true
   },
   "outputs": [],
   "source": [
    "from sklearn.svm import LinearSVC"
   ]
  },
  {
   "cell_type": "code",
   "execution_count": 34,
   "metadata": {},
   "outputs": [
    {
     "name": "stdout",
     "output_type": "stream",
     "text": [
      "CPU times: user 6.55 s, sys: 66.1 ms, total: 6.62 s\n",
      "Wall time: 6.7 s\n"
     ]
    }
   ],
   "source": [
    "%%time\n",
    "svm = LinearSVC(random_state=17)\n",
    "svm.fit(X_train_sparse, y_train)"
   ]
  },
  {
   "cell_type": "code",
   "execution_count": 35,
   "metadata": {},
   "outputs": [
    {
     "name": "stdout",
     "output_type": "stream",
     "text": [
      "Accuracy: 0.802\n",
      "AUC: 0.803\n"
     ]
    }
   ],
   "source": [
    "print \"Accuracy: {}\".format(round(accuracy_score(y_test, svm.predict(X_test_sparse)), 3))\n",
    "print \"AUC: {}\".format(round(roc_auc_score(y_test, svm.predict(X_test_sparse)), 3))"
   ]
  },
  {
   "cell_type": "markdown",
   "metadata": {},
   "source": [
    "### Regularization coefficient for logistic regression"
   ]
  },
  {
   "cell_type": "markdown",
   "metadata": {},
   "source": [
    "A pipeline is what chains several steps together, once the initial exploration is done. For example, some codes are meant to transform features — normalise numericals, or turn text into vectors, or fill up missing data, they are transformers; other codes are meant to predict variables by fitting an algorithm, such as random forest or support vector machine, they are estimators."
   ]
  },
  {
   "cell_type": "code",
   "execution_count": 36,
   "metadata": {},
   "outputs": [
    {
     "name": "stderr",
     "output_type": "stream",
     "text": [
      "/Users/zkid18/anaconda2/lib/python2.7/site-packages/sklearn/linear_model/logistic.py:1228: UserWarning: 'n_jobs' > 1 does not have any effect when 'solver' is set to 'liblinear'. Got 'n_jobs' = -1.\n",
      "  \" = {}.\".format(self.n_jobs))\n"
     ]
    },
    {
     "name": "stdout",
     "output_type": "stream",
     "text": [
      "0.7825\n",
      "CPU times: user 1.81 s, sys: 66.1 ms, total: 1.88 s\n",
      "Wall time: 1.9 s\n"
     ]
    }
   ],
   "source": [
    "%%time\n",
    "from sklearn.pipeline import make_pipeline\n",
    "\n",
    "text_pipe_logit = make_pipeline(CountVectorizer(), \n",
    "                                LogisticRegression(n_jobs=-1, random_state=17, penalty = 'l2'))\n",
    "\n",
    "text_pipe_logit.fit(X_train, y_train)\n",
    "print(text_pipe_logit.score(X_test, y_test))"
   ]
  },
  {
   "cell_type": "markdown",
   "metadata": {},
   "source": [
    "We use paramter C as our regularization parameter. Parameter $ C = 1/λ. $\n",
    "Lambda ($λ$) controls the trade-off between allowing the model to increase it's complexity as much as it wants with trying to keep it simple. For example, if λ is very low or 0, the model will have enough power to increase it's complexity (overfit) by assigning big values to the weights for each parameter. If, in the other hand, we increase the value of $λ$, the model will tend to underfit, as the model will become too simple."
   ]
  },
  {
   "cell_type": "code",
   "execution_count": 37,
   "metadata": {},
   "outputs": [
    {
     "name": "stdout",
     "output_type": "stream",
     "text": [
      "CPU times: user 2.11 s, sys: 406 ms, total: 2.52 s\n",
      "Wall time: 35.3 s\n"
     ]
    }
   ],
   "source": [
    "%%time\n",
    "from sklearn.model_selection import GridSearchCV\n",
    "\n",
    "param_grid_logit = {'logisticregression__C': \n",
    "                    np.logspace(-5, 0, 6)}\n",
    "grid_logit = GridSearchCV(text_pipe_logit, param_grid_logit, cv=5, n_jobs=-1)\n",
    "\n",
    "grid_logit.fit(X_train, y_train)"
   ]
  },
  {
   "cell_type": "code",
   "execution_count": 38,
   "metadata": {},
   "outputs": [
    {
     "data": {
      "text/plain": [
       "({'logisticregression__C': 0.01}, 0.82999999999999996)"
      ]
     },
     "execution_count": 38,
     "metadata": {},
     "output_type": "execute_result"
    }
   ],
   "source": [
    "grid_logit.best_params_, grid_logit.best_score_"
   ]
  },
  {
   "cell_type": "code",
   "execution_count": 39,
   "metadata": {},
   "outputs": [
    {
     "data": {
      "text/plain": [
       "0.80000000000000004"
      ]
     },
     "execution_count": 39,
     "metadata": {},
     "output_type": "execute_result"
    }
   ],
   "source": [
    "grid_logit.score(X_test,y_test)"
   ]
  },
  {
   "cell_type": "code",
   "execution_count": 40,
   "metadata": {},
   "outputs": [
    {
     "name": "stdout",
     "output_type": "stream",
     "text": [
      "Accuracy: 0.8\n",
      "AUC: 0.801\n"
     ]
    }
   ],
   "source": [
    "print \"Accuracy: {}\".format(round(accuracy_score(y_test, grid_logit.predict(X_test)), 3))\n",
    "print \"AUC: {}\".format(round(roc_auc_score(y_test, grid_logit.predict(X_test)), 3))"
   ]
  },
  {
   "cell_type": "markdown",
   "metadata": {},
   "source": [
    "### Regularization coefficient for SVM"
   ]
  },
  {
   "cell_type": "code",
   "execution_count": 41,
   "metadata": {},
   "outputs": [
    {
     "name": "stdout",
     "output_type": "stream",
     "text": [
      "0.7875\n",
      "CPU times: user 1.9 s, sys: 66.5 ms, total: 1.97 s\n",
      "Wall time: 1.96 s\n"
     ]
    }
   ],
   "source": [
    "%%time\n",
    "text_pipe_svm = make_pipeline(CountVectorizer(), LinearSVC(random_state=17))\n",
    "\n",
    "text_pipe_svm.fit(X_train, y_train)\n",
    "print(text_pipe_svm.score(X_test, y_test))"
   ]
  },
  {
   "cell_type": "code",
   "execution_count": 42,
   "metadata": {},
   "outputs": [
    {
     "name": "stdout",
     "output_type": "stream",
     "text": [
      "CPU times: user 2.33 s, sys: 359 ms, total: 2.69 s\n",
      "Wall time: 42.1 s\n"
     ]
    }
   ],
   "source": [
    "%%time\n",
    "param_grid_svm = {'linearsvc__C': np.logspace(-5, 0, 6)}\n",
    "grid_svm = GridSearchCV(text_pipe_svm, param_grid_svm, cv=5, n_jobs=-1)\n",
    "\n",
    "grid_svm.fit(X_train, y_train);"
   ]
  },
  {
   "cell_type": "code",
   "execution_count": 43,
   "metadata": {},
   "outputs": [
    {
     "data": {
      "text/plain": [
       "({'linearsvc__C': 0.001}, 0.83750000000000002)"
      ]
     },
     "execution_count": 43,
     "metadata": {},
     "output_type": "execute_result"
    }
   ],
   "source": [
    "grid_svm.best_params_, grid_svm.best_score_"
   ]
  },
  {
   "cell_type": "code",
   "execution_count": 44,
   "metadata": {},
   "outputs": [
    {
     "name": "stdout",
     "output_type": "stream",
     "text": [
      "Accuracy: 0.795\n",
      "AUC: 0.796\n"
     ]
    }
   ],
   "source": [
    "print \"Accuracy: {}\".format(round(accuracy_score(y_test, grid_svm.predict(X_test)), 3))\n",
    "print \"AUC: {}\".format(round(roc_auc_score(y_test, grid_svm.predict(X_test)), 3))"
   ]
  },
  {
   "cell_type": "markdown",
   "metadata": {},
   "source": [
    "### Visualization"
   ]
  },
  {
   "cell_type": "code",
   "execution_count": 45,
   "metadata": {
    "collapsed": true
   },
   "outputs": [],
   "source": [
    "def visualize_coefficients(classifier, feature_names, n_top_features=25):\n",
    "    # get coefficients with large absolute values \n",
    "    coef = classifier.coef_.ravel()\n",
    "    positive_coefficients = np.argsort(coef)[-n_top_features:]\n",
    "    negative_coefficients = np.argsort(coef)[:n_top_features]\n",
    "    interesting_coefficients = np.hstack([negative_coefficients, positive_coefficients])\n",
    "    # plot them\n",
    "    plt.figure(figsize=(15, 5))\n",
    "    colors = [\"red\" if c < 0 else \"blue\" for c in coef[interesting_coefficients]]\n",
    "    plt.bar(np.arange(2 * n_top_features), coef[interesting_coefficients], color=colors)\n",
    "    feature_names = np.array(feature_names)\n",
    "    plt.xticks(np.arange(1, 1 + 2 * n_top_features), feature_names[interesting_coefficients], rotation=60, ha=\"right\");"
   ]
  },
  {
   "cell_type": "code",
   "execution_count": 46,
   "metadata": {
    "collapsed": true
   },
   "outputs": [],
   "source": [
    "def plot_grid_scores(grid, param_name):\n",
    "    plot(grid.param_grid[param_name], grid.cv_results_['mean_train_score'],\n",
    "        color='green', label='train')\n",
    "    plot(grid.param_grid[param_name], grid.cv_results_['mean_test_score'],\n",
    "        color='red', label='test')\n",
    "    legend();"
   ]
  },
  {
   "cell_type": "markdown",
   "metadata": {},
   "source": [
    "Word importance"
   ]
  },
  {
   "cell_type": "code",
   "execution_count": 47,
   "metadata": {},
   "outputs": [
    {
     "data": {
      "image/png": "[encoded data removed]",
      "text/plain": [
       "<matplotlib.figure.Figure at 0x1a0ff97310>"
      ]
     },
     "metadata": {},
     "output_type": "display_data"
    }
   ],
   "source": [
    "visualize_coefficients(logit, cv.get_feature_names())"
   ]
  },
  {
   "cell_type": "code",
   "execution_count": 48,
   "metadata": {},
   "outputs": [
    {
     "data": {
      "image/png": "[encoded data removed]",
      "text/plain": [
       "<matplotlib.figure.Figure at 0x10775e3d0>"
      ]
     },
     "metadata": {},
     "output_type": "display_data"
    }
   ],
   "source": [
    "visualize_coefficients(sgd_logit, cv.get_feature_names())"
   ]
  },
  {
   "cell_type": "code",
   "execution_count": 49,
   "metadata": {
    "scrolled": true
   },
   "outputs": [
    {
     "data": {
      "image/png": "[encoded data removed]",
      "text/plain": [
       "<matplotlib.figure.Figure at 0x1085acd10>"
      ]
     },
     "metadata": {},
     "output_type": "display_data"
    }
   ],
   "source": [
    "visualize_coefficients(svm, cv.get_feature_names())"
   ]
  },
  {
   "cell_type": "code",
   "execution_count": 50,
   "metadata": {},
   "outputs": [
    {
     "data": {
      "image/png": "[encoded data removed]",
      "text/plain": [
       "<matplotlib.figure.Figure at 0x1a0f940b10>"
      ]
     },
     "metadata": {},
     "output_type": "display_data"
    }
   ],
   "source": [
    "visualize_coefficients(grid_logit.best_estimator_.named_steps['logisticregression'],\n",
    "                       grid_logit.best_estimator_.named_steps['countvectorizer'].get_feature_names())"
   ]
  },
  {
   "cell_type": "code",
   "execution_count": 51,
   "metadata": {},
   "outputs": [
    {
     "data": {
      "image/png": "[encoded data removed]",
      "text/plain": [
       "<matplotlib.figure.Figure at 0x106c7ea50>"
      ]
     },
     "metadata": {},
     "output_type": "display_data"
    }
   ],
   "source": [
    "visualize_coefficients(grid_svm.best_estimator_.named_steps['linearsvc'],\n",
    "                       grid_svm.best_estimator_.named_steps['countvectorizer'].get_feature_names())"
   ]
  },
  {
   "cell_type": "markdown",
   "metadata": {},
   "source": [
    "### TD-IDF"
   ]
  },
  {
   "cell_type": "markdown",
   "metadata": {},
   "source": [
    "Alternative is to calculate word frequencies, and by far the most popular method is called TF-IDF. This is an acronym than stands for “Term Frequency – Inverse Document” Frequency which are the components of the resulting scores assigned to each word.\n",
    "\n",
    "Term Frequency: This summarizes how often a given word appears within a document.\n",
    "\n",
    "Inverse Document Frequency: This downscales words that appear a lot across documents."
   ]
  },
  {
   "cell_type": "code",
   "execution_count": 52,
   "metadata": {},
   "outputs": [
    {
     "data": {
      "text/plain": [
       "GridSearchCV(cv=3, error_score='raise',\n",
       "       estimator=Pipeline(memory=None,\n",
       "     steps=[('tfidfvectorizer', TfidfVectorizer(analyzer=u'word', binary=False, decode_error=u'strict',\n",
       "        dtype=<type 'numpy.int64'>, encoding=u'utf-8', input=u'content',\n",
       "        lowercase=True, max_df=1.0, max_features=None, min_df=1,\n",
       "        ngram_range=(1, 1), norm=u'l2', preprocessor=None, smoo...ax_iter=1000,\n",
       "     multi_class='ovr', penalty='l2', random_state=None, tol=0.0001,\n",
       "     verbose=0))]),\n",
       "       fit_params=None, iid=True, n_jobs=-1,\n",
       "       param_grid={'linearsvc__C': array([  1.00000e-03,   1.00000e-02,   1.00000e-01,   1.00000e+00,\n",
       "         1.00000e+01,   1.00000e+02])},\n",
       "       pre_dispatch='2*n_jobs', refit=True, return_train_score='warn',\n",
       "       scoring=None, verbose=0)"
      ]
     },
     "execution_count": 52,
     "metadata": {},
     "output_type": "execute_result"
    }
   ],
   "source": [
    "from sklearn.feature_extraction.text import TfidfVectorizer\n",
    "tfidf_pipe = make_pipeline(TfidfVectorizer(), LinearSVC())\n",
    "\n",
    "param_grid = {'linearsvc__C': np.logspace(-3, 2, 6)}\n",
    "grid_tfidf = GridSearchCV(tfidf_pipe, param_grid, cv=3, n_jobs=-1)\n",
    "grid_tfidf.fit(X_train, y_train)"
   ]
  },
  {
   "cell_type": "code",
   "execution_count": 53,
   "metadata": {},
   "outputs": [
    {
     "data": {
      "text/plain": [
       "(0.83374999999999999, {'linearsvc__C': 100.0})"
      ]
     },
     "execution_count": 53,
     "metadata": {},
     "output_type": "execute_result"
    }
   ],
   "source": [
    "grid_tfidf.best_score_, grid_tfidf.best_params_"
   ]
  },
  {
   "cell_type": "code",
   "execution_count": 54,
   "metadata": {},
   "outputs": [
    {
     "data": {
      "text/plain": [
       "0.8175"
      ]
     },
     "execution_count": 54,
     "metadata": {},
     "output_type": "execute_result"
    }
   ],
   "source": [
    "grid_tfidf.score(X_test,y_test)"
   ]
  },
  {
   "cell_type": "code",
   "execution_count": null,
   "metadata": {
    "collapsed": true
   },
   "outputs": [],
   "source": [
    "print \"Accuracy: {}\".format(round(accuracy_score(y_test, grid_tfidf.predict(X_test)), 3))\n",
    "print \"AUC: {}\".format(round(roc_auc_score(y_test, grid_tfidf.predict(X_test)), 3))"
   ]
  },
  {
   "cell_type": "code",
   "execution_count": 56,
   "metadata": {},
   "outputs": [
    {
     "data": {
      "text/plain": [
       "{'linearsvc': LinearSVC(C=100.0, class_weight=None, dual=True, fit_intercept=True,\n",
       "      intercept_scaling=1, loss='squared_hinge', max_iter=1000,\n",
       "      multi_class='ovr', penalty='l2', random_state=None, tol=0.0001,\n",
       "      verbose=0),\n",
       " 'tfidfvectorizer': TfidfVectorizer(analyzer=u'word', binary=False, decode_error=u'strict',\n",
       "         dtype=<type 'numpy.int64'>, encoding=u'utf-8', input=u'content',\n",
       "         lowercase=True, max_df=1.0, max_features=None, min_df=1,\n",
       "         ngram_range=(1, 1), norm=u'l2', preprocessor=None, smooth_idf=True,\n",
       "         stop_words=None, strip_accents=None, sublinear_tf=False,\n",
       "         token_pattern=u'(?u)\\\\b\\\\w\\\\w+\\\\b', tokenizer=None, use_idf=True,\n",
       "         vocabulary=None)}"
      ]
     },
     "execution_count": 56,
     "metadata": {},
     "output_type": "execute_result"
    }
   ],
   "source": [
    "grid_tfidf.best_estimator_.named_steps"
   ]
  },
  {
   "cell_type": "code",
   "execution_count": 57,
   "metadata": {},
   "outputs": [
    {
     "data": {
      "image/png": "[encoded data removed]",
      "text/plain": [
       "<matplotlib.figure.Figure at 0x1a0cedab10>"
      ]
     },
     "metadata": {},
     "output_type": "display_data"
    }
   ],
   "source": [
    "visualize_coefficients(grid_tfidf.best_estimator_.named_steps['linearsvc'],\n",
    "                       grid_tfidf.best_estimator_.named_steps['tfidfvectorizer'].get_feature_names())"
   ]
  },
  {
   "cell_type": "markdown",
   "metadata": {},
   "source": [
    "## Vowpal Wabbit"
   ]
  },
  {
   "cell_type": "markdown",
   "metadata": {},
   "source": [
    "Delete all words, smaller than 3 (\"dummy\" prepocessing =/)"
   ]
  },
  {
   "cell_type": "code",
   "execution_count": 58,
   "metadata": {
    "collapsed": true
   },
   "outputs": [],
   "source": [
    "def to_vw_format(review, label=None):\n",
    "    return str(label or '') + ' |text ' + ' '.join(re.findall('\\w{3,}', review.lower())) + '\\n'"
   ]
  },
  {
   "cell_type": "code",
   "execution_count": 59,
   "metadata": {
    "collapsed": true
   },
   "outputs": [],
   "source": [
    "test_review = reviews.data[0]\n",
    "test_target = reviews.target[0]"
   ]
  },
  {
   "cell_type": "code",
   "execution_count": 60,
   "metadata": {},
   "outputs": [
    {
     "data": {
      "text/plain": [
       "'-1 |text arnold schwarzenegger has been icon for action enthusiasts since the late but lately his films have been very sloppy and the one liners are getting worse hard seeing arnold freeze batman and robin especially when says tons ice jokes but hey got million what matter him once again arnold has signed another expensive blockbuster that can compare with the likes the terminator series true lies and even eraser this called dark thriller the devil gabriel byrne has come upon earth impregnate woman robin tunney which happens every 1000 years and basically destroy the world but apparently god has chosen one man and that one man jericho cane arnold himself with the help trusty sidekick kevin pollack they will stop nothing let the devil take over the world parts this are actually absurd that they would fit right with dogma yes the film that weak but better than the other blockbuster right now sleepy hollow but makes the world not enough look like star film anyway this definitely doesn seem like arnold movie just wasn the type film you can see him doing sure gave few chuckles with his well known one liners but seemed confused where his character and the film was going understandable especially when the ending had changed according some sources aside form that still walked through much like has the past few films sorry say this arnold but maybe these are the end your action days speaking action where was this film there was hardly any explosions fights the devil made few places explode but arnold wasn kicking some devil butt the ending was changed make more spiritual which undoubtedly ruined the film was least hoping for cool ending nothing else occurred but once again was let down also don know why the film took long and cost much there was really super affects all unless you consider invisible devil who was for minutes tops worth the overpriced budget the budget should have gone into better script where least audiences could somewhat entertained instead facing boredom pitiful see how scripts like these get bought and made into movie they even read these things anymore sure doesn seem like thankfully gabriel performance gave some light this poor film when walks down the street searching for robin tunney you can help but feel that looked like devil the guy creepy looking anyway when all over you just glad the end the movie don bother see this you expecting solid action flick because neither solid nor does have action just another movie that are suckered seeing due strategic marketing campaign save your money and see the world not enough for entertaining experience\\n'"
      ]
     },
     "execution_count": 60,
     "metadata": {},
     "output_type": "execute_result"
    }
   ],
   "source": [
    "to_vw_format(test_review, 1 if test_target == 1 else -1)"
   ]
  },
  {
   "cell_type": "markdown",
   "metadata": {},
   "source": [
    "Split the whole sample into three sets:\n",
    "1. Training (64%)\n",
    "2. Validation (16%)\n",
    "3. Testing (20%)\n",
    "\n",
    "Where the model is built on the training set, the prediction errors are calculated using the validation set, and the test set is used to assess the generalization error of the final model. "
   ]
  },
  {
   "cell_type": "code",
   "execution_count": 61,
   "metadata": {
    "collapsed": true
   },
   "outputs": [],
   "source": [
    "train_share = int(0.8*len(X_train))\n",
    "X_train, X_valid = X_train[:train_share], X_train[train_share:]\n",
    "y_train, y_valid = y_train[:train_share], y_train[train_share:]"
   ]
  },
  {
   "cell_type": "code",
   "execution_count": 62,
   "metadata": {},
   "outputs": [
    {
     "data": {
      "text/plain": [
       "(1280, 320, 400)"
      ]
     },
     "execution_count": 62,
     "metadata": {},
     "output_type": "execute_result"
    }
   ],
   "source": [
    "len(y_train), len(y_valid), len(y_test)"
   ]
  },
  {
   "cell_type": "code",
   "execution_count": 65,
   "metadata": {},
   "outputs": [],
   "source": [
    "with open('data/movie_reviews_train.vw', 'w') as vw_train_data:\n",
    "    for text, target in zip(X_train, y_train):\n",
    "        vw_train_data.write(to_vw_format(str(text), 1 if target == 1 else -1))\n",
    "with open('data/movie_reviews_valid.vw', 'w') as vw_train_data:\n",
    "    for text, target in zip(X_valid, y_valid):\n",
    "        vw_train_data.write(to_vw_format(str(text), 1 if target == 1 else -1))\n",
    "with open('data/movie_reviews_test.vw', 'w') as vw_test_data:\n",
    "    for text in X_test:\n",
    "        vw_test_data.write(to_vw_format(str(text)))"
   ]
  },
  {
   "cell_type": "code",
   "execution_count": 68,
   "metadata": {},
   "outputs": [
    {
     "name": "stdout",
     "output_type": "stream",
     "text": [
      "1 |text vampire lore and legend has always been popular fantasy element substantiated not only the sheer number movies about the subject but also the proliferation cults and sects adherents and unlike any the more outlandish myths the vampire holds some real world probability one study claims 000 bloodsuckers exist worldwide and places los angeles but lest the nasties mistaken for simple comic book bad guys john carpenter would like remind that they are and always have been truly frightening element the thriller genre and remind does his latest film vampires there was some question halloween weekend approached how well vampires would comparison new line cinema immensely successful blade released august the two films take noticeably different stands the vampire issue and don even agree some basic points the slaying method for instance blade main weapons are silver and garlic whereas main character jack crow technique wooden stake the heart blade also gives more face the vampire civilization while carpenter would like remain the dark about how the pasties operate both have their advantages and here carpenter style lends itself darker breed suspense rather than the action movie that blade director stephen norrington delievered when all said and done though the vampires still kill and die with bloody flourish the level for gore indeed set maximum this time our hero vatican sponsored slayer jack crow james woods cynical battle worn veteran and the best his bunch and his team are responsible for cleaning out the american southwest and after exterminating nest one night they run against super vampire termed master named valek thomas ian griffith valek kills all jack team except for his partner tony montoya daniel baldwin and the two regroup they learn that valek the original vampire now over six hundred years old apparently valek and his minions have been sweeping the southwest for decades search cross that will enable them walk the daytime with the aid priest named adam tim guinee and bitten hooker sheryl lee bait they track valek down for the final confrontation the script for vampires written don jakoby and based the john steakley novel perhaps the wittiest piece screenplay see production all year crow particular fun source one liners and woods does every one them with perfect stoicism baldwin lee and guinee are all fine supports adding the character pool but the other true highlight the movie thomas ian griffith bad guy griffith intense expression perfect for the role and the only downside that got talk sometime luckily got few lines and manages pull off rather thrilling performance all said fans will surely impressed this picture and those who found apt pupil bit limp will excited this one certainly worthwhile visit the theaters\r\n",
      "-1 |text conventional wisdom among collectibles retailers that children items begin dramatically escalate price about twenty five thirty years after the item was made that when the kids that time have jobs disposable income and desire visit the awe and wonderment childhood that has disappeared from their lives check out the prices toys from the late sixties and you find that yogi bear lunch boxes are demanding big bucks there heavy nostalgia nowadays for the late sixties and early seventies and nowhere more apparent than the big screen boomers are now mostly their forties and fifties and have lived the work day world for long time they like capture some that fun they remember from days yore hollywood seems more than eager churn out product help them directors are zealous put their stamp icons from that time and for the most part they messing mission impossible lost space godzilla zorro none these successfully capture the originals none these are even good films you can now add the avengers the list the british television series began 1961 super secret agent john steed then patrick macnee and his third partner emma peel then diana rigg are the pair that the american audience fell for surrealistic and witty the series fit the mood the times the leather clad rigg probably didn hurt the ratings either after all not coincidence that you can pronounce her character name without appeal now the nineties steed now ralph fiennes and peel now uma thurman are battling evil genius sir august wynter sean connery who screwing with england weather that about much plot have there some footage about lot other things that either don make sense make even less sense get betrayal for some unknown reason evil clones appear and vanish and have connection the film remarkably ineffective giant flying robot wasps with machine guns their belly come from nowhere for good reason there high tech hot air balloon but have idea why anyone the spy agency run man called mother who wheelchair and woman named father who blind least some scenes there probably reason for all this but never know macnee makes appearance sorts the voice for invisible man whose character goes nowhere scene that does nothing group villains sits around table all clad huge pastel colored teddy bear outfits first humorous watch the teddies waddle around but then becomes goofy the movie medley clutter confusion and wrong decisions around every corner feels like major portions the film are missing the storyline jumps rather than flows reportedly the film was cut several times this one those times where the whole less than the sum the parts especially since some the parts appear missing there one good point where peel running from one room another house designed escher other than that the effects are second rate the weather threat old hat are the scenes huge tornadoes thurman almost makes adequate emma peel but doesn work she looks good dresses all the right fetish outfits but there spark fiennes fares even less well macnee steed was witty man the world with sense humor fiennes agent comes across dour kid grown clothes who has never been out his home town even connery one the greatest living actors doesn have much presence outside few fiery scenes the action scenes are difficult follow director jeremiah chechik responsible for the atrocious remake diabolique somehow manages put the camera exactly where shouldn things happen people move around but even with the utmost effort you were able care about any the scenes are bewildering the primary allure the original was the interaction between the two leads witty banter and underplayed sexual tension were winning combination admittedly there are few humorous sexual puns the film but there chemistry and the repartee anything but clever one emma peel first lines dialog rules are made broken doesn get any better advance word alone should have been enough scare off anyone the release date was changed several times connery refuses promote the film there was screening for critics which may have been good choice for warner brothers least this way they get something audience for the first weekend before the news gets out admittedly haven seen episode the television series for couple decades guess that would severely dated now matter how antiquated might there doubt that holds better than this film first viewing there reason waste any part the last few days summer inside watching this movie reason all\r\n"
     ]
    }
   ],
   "source": [
    "!head -2 data/movie_reviews_train.vw"
   ]
  },
  {
   "cell_type": "code",
   "execution_count": 69,
   "metadata": {},
   "outputs": [
    {
     "name": "stdout",
     "output_type": "stream",
     "text": [
      "-1 |text plot two sister witches have live with curse placed upon their family which prevents them from ever enjoying full life with lover the hex invokes the eventual demise their loved one when one their past loves comes back haunt them they have figure way out their eternal dilemma critique been waiting for good witch movie for while now but hold your brooms and incantations cause this puppy far from being for film that has the word magic its title this movie contains very few moments magic humor for that matter drama suspense romance well actually there some manufactured romance within plot that muddled never lets you whether comedy drama horror show murder mystery maybe romance doesn really matter cause the characters the film are boring and uninteresting that you have absolutely basis which care for them the film whole only the filmmakers had spent much time the plot they did the sinfully obvious soundtrack this film might had chance more than what now which unentertaining crappy film that uses the witch angle diversionary tactic weave away from its grab bag stupid voice overs overdone songs melodramatic romance undeveloped story and uneven acting only wish that could make that one hour and forty five minutes life appear but alas lost the spiritual world interesting ideas gone wildly awry little known facts about this film and its stars this film based the novel written alice hoffman screenwriter akiva goldsman also wrote the screenplay for 1997 batman robin director griffin dunne known mainly actor such films american werewolf london and after hours\r\n",
      "-1 |text best remembered for his understated performance hannibal lecter michael mann forensics thriller manhunter scottish character actor brian cox brings something special every movie works usually playing bit role some studio schlock dies halfway through the long kiss goodnight only occasionally given something meaty and substantial you want see some brilliant acting check out his work dogged police inspector opposite frances mcdormand ken loach hidden agenda cox plays the role big john harrigan the disturbing new indie flick which lot picked sundance when other distributors were scared budge big john feels the love that dares not speak its name but expresses through seeking out adolescents and bringing them back his pad what bothered some audience members was the presentation big john oddly empathetic light even tempered funny robust old man who actually listens the kids problems opposed their parents and friends both caught the high wire act their own confused lives have sex for pay with them only after elaborate courtship charming them with temptations from the grown world stands for long island expressway which slices through the strip malls and middle class homes suburbia filmmaker michael cuesta uses pretty transparent metaphor dangerous escape for his year old protagonist howie paul franklin dano his opening voice over howie reveals morbid preoccupation with death the road citing the highway deaths filmmaker alan pakula songwriter harry chapin and his own mother exit both fascinated and disturbed the and those feelings are projected onto big john who follows howie around his bright red car but never makes move force the boy something doesn want this makes him much more complex than the usual child molesters seen movies beast but ashamed would have worked best half hour short film about howie ill advised foray into big john haven there unnecessary padding with howie miserable dad bruce altman the hot seat for white collar crime degenerate youngsters who get their kicks from robbing middle class houses and some homoerotic shenanigans with wise ass gary terrio billy kay handsome artful dodger rather than add the themes suburban ennui not that needed another movie that subject these awkward subplots pad out the running time adequate feature length concurrently the relationship between howie and big john evenly paced and exceptionally well acted cox sporting baseball cap and faded marine tattoo all bluff and bluster dano quiet and first glance seems withdrawn transparent used child actors whose dramatic choices are broad and obvious calling haley joel surprising see one who actually listens throughout any given scene the restraint admirable but screenplay doesn always give them the best material when howie reads big john walt whitman poem the moment feels bit too precious director michael cuesta lingers ecstatic reaction shot big john who may well hearing glenn gould performing bach goldberg variations too much there are also some obvious dramatic contrivances involving big john other boy toy walter masterson jealous over the newbie this plot thread predictably leads violence not content haunting observational portrait teen alienation royally screwed world like terry zwigoff superb ghost world cuesta lacks the confidence his own work end ambivalent note typical unimaginative cinema wrap things with bullet sparing the writers from actually having come with complex philosophical note this regard and countless other indie films share something common with blockbuster action films problems are solved when the obstacle removed how often does real life work this way extend the question movie striving for realism dramatic contrivances destroy the illusion\r\n"
     ]
    }
   ],
   "source": [
    "!head -2 data/movie_reviews_valid.vw"
   ]
  },
  {
   "cell_type": "code",
   "execution_count": 70,
   "metadata": {},
   "outputs": [
    {
     "name": "stdout",
     "output_type": "stream",
     "text": [
      " |text the previews for the movie are pretty good they show little plot all the characters and the emotional highlights all spliced together give general impression the script unfortunately the full movie adds nothing but 115 minutes the residents mystery love hockey mystery and hockey together like texas and high school football the townsfolk love hockey much that they even acquit player who guilty shooting another man yes that one the movie jokes every saturday the best players pair off for game and the whole town comes watch the town prodigal son charlie hank azaria wrote article the weekly game for sports illustrated mystery national fame has the town abuzz week later charlie actually shows person and brings with him offer from the nhl the new york rangers will come mystery play the locals the mysterians see this both good and bad the one hand they love have the fame and the money such exhibition the other hand they don want turn the butt leno and letterman jokes the movie follows handful lives that are affected the proposition biebe russell crowe has just been retired from the team and asked coach the boys including his new replacement already resentful and top off charlie has been making eyes his wife crowe not given lot room act this film just kind stuck with constantly brooding charlie meanwhile resentful having born town where hockey the only measure man worth his gift the feature story and the new york rangers was his way compensating for not being better skater hoped would earn him some respect and merit but the townspeople find reasons continue disliking him burt reynolds could have been interesting walter the judge whose courtroom was befouled moronic jury hockey fans walter actually has some experience with collegiate hockey but actively tries put behind him wants his son take the game more seriously but wants his community just get over reynolds could have been good but sloppy writing and editing keep walter the corner and reynolds never really gets pull his performance all together one character actually was interesting biebe wife mary mccormack like the judge understood that there was more life than hockey but unlike him she has come accept the skewed view the community she chose the town and her husband with her eyes wide open her unique insight verbalized once and lasts only scene before gone but her performance carries the hint some deeper wisdom mysterty alaska follows handful other characters but none are well developed worth mentioning the biggest problem with this movie that there real heart the story underlying thing that the movie really about instead roach and screenwriters david kelley and sean byrne try cram the entire human condition into this sports comedy they try make you laugh and cry feel outrage and pride they present the framing and cadence for jokes but there nothing truly funny they show appropriately staged scenes sadness but they give you nothing really sad about columnist molly ivins would say all hat cattle the perfect opportunity arises for roach say what this movie really about there funeral scene played with appropriate gravity and somber music chance for the characters reflect their lives and decide what truly important russell crowe steps forward speak about spell out the movie metaphor for says that what really matters life community then adds and hockey guess these mysterians really are shallow they appear only mildly bad mystery alaska probably deserves stars even laughed out loud genuine laughs places but docked extra half star when mike myers friend roach turned role that didn suit him myers comic character actor puts masks becomes outrageous caricature and funny great austin powers evil any his scottish characters nobody else mysterty alaska comic caricature all the other people have the feel dramatic characters semi serious roles for roach bring myers for few cheap laughs shows incredible contempt toward the rest his cast toward his audience and indeed toward the film itself acknowledgment the director that the film not worth taking seriously\r\n",
      " |text well there goes another one sadly this like other movies this year wasn good this one being almost bad the omega code but not quite from the opening credits had good feeling this would bad and well guess was right with bad excuses for acting horrible screenplay and straight out bad direction the bachelor terribly unfunny movie that doesn work any levels accept that fact that rene zellwegar who does give good performance the two cameos brooke shields and mariah carey are also good with brooke being the best the movie troubled from the start because chris donnell hugely miscast and gives one the worst performances date here the stupid plot chris donnell plays jimmie shelton man who has just broken with his girlfriend meets anne rene zellwegar they instantly hit off and are together for three years jimmie decides that wants bring their relationship little bit really doesn realize that anne thinks wants marry her what wants never did catch proposes really bad way and she shoots him down and very mad course tries apologize but nothing seems help any then his grandfather dies and learns that has left jimmie 100 million dollars long marries before the next day now jimmie must find anne and try marry her get the money and because loves her get married someone else get the money itself leading funny and predictable ending that leaves bad taste our mouths maybe this could one the dumbest cliched silliest romantic comedy date that has real big laughs even the supporting roles artie lange hal holbrook and anser aren even good the plot was good idea but the script would have have been written less than five minutes and five year old the choppy dialogue and bad directing don help things any even though chris donnell gave performance the two batman movies does not give even remotely good funny performance here and wanted boo and throw pop the screen get rid him rene zelweggar different story and gave charming sweet and likable performance usual and really was the only thing that saved this confused movie from being total huge washout her sister played marley shelton also good and the two have good chemistry onscreen brooke shields showed funny little performance big headed mogul who after while became routine and old one really can help but think that have seen this stuff before not like this original idea and the end everyone knows what going happen due its cliches and typicalness the bachelor works good levels and fact doesn work all anser and hal holbrook were wasted terrible roles and mariah carey can not act save her soul and this could the only film her movie career dispite her terrific music career chris donnell not bad actor casper van dien but that not saying great deal seems held back and really doesn get into his character much and after even the first minutes gets annoying and old artie lange just seems like trying another chris farley and was completely unfunny and nerving why the filmmakers would want waste such cast such bad movie with such bad acting and dialogue question only they will know maybe they thought would become hit critical success and sometimes don agree with other critics movies even from the trailers for this film they made look bad and showed all the mildly funny parts its based the 1925 silent film seven chances which sure very better than this mess even though some may think this good date movie most who see this will want pull out thier hair and scream for thier money back besides being terrible movie the bachelor well terrible movie has nothing worth recommending therefore really can recommend this movie did not have good time and laughed only three times the running time the movie 106 minutes which wayyyy over time and needs shortened least thirty minutes parts seems forever and parts seem not last enough time being one the worst movies the year can sure that hope they will not make anymore stupid unfunny romantic comedies and they they give filmmakers\r\n"
     ]
    }
   ],
   "source": [
    "!head -2 data/movie_reviews_test.vw"
   ]
  },
  {
   "cell_type": "markdown",
   "metadata": {},
   "source": [
    "Fit Vowpal Wabbit with the following arguments\n",
    "\n",
    "1. -d, path to train sample\n",
    "2. --loss_function – hinge\n",
    "3. -f – path to output file"
   ]
  },
  {
   "cell_type": "code",
   "execution_count": 71,
   "metadata": {
    "collapsed": true
   },
   "outputs": [],
   "source": [
    "!vw -d data/movie_reviews_train.vw \\\n",
    "--loss_function hinge -f data/movie_reviews_model.vw --quiet"
   ]
  },
  {
   "cell_type": "markdown",
   "metadata": {
    "collapsed": true
   },
   "source": [
    "Make a prediction on valid sample with the following argument\n",
    "\n",
    "1. -i –path to trained model\n",
    "2. -t -d – path to valid model\n",
    "3. -p – moth to txt file with output predictions"
   ]
  },
  {
   "cell_type": "code",
   "execution_count": 72,
   "metadata": {
    "collapsed": true
   },
   "outputs": [],
   "source": [
    "!vw -i data/movie_reviews_model.vw -t -d data/movie_reviews_valid.vw \\\n",
    "-p data/movie_valid_pred.txt --quiet"
   ]
  },
  {
   "cell_type": "markdown",
   "metadata": {},
   "source": [
    "Estimate accuracy using ROC-AUC"
   ]
  },
  {
   "cell_type": "code",
   "execution_count": 73,
   "metadata": {},
   "outputs": [
    {
     "name": "stdout",
     "output_type": "stream",
     "text": [
      "Accuracy: 0.8\n",
      "AUC: 0.906\n"
     ]
    }
   ],
   "source": [
    "with open('data/movie_valid_pred.txt') as pred_file:\n",
    "    valid_prediction = [float(label) \n",
    "                             for label in pred_file.readlines()]\n",
    "print(\"Accuracy: {}\".format(round(accuracy_score(y_valid, \n",
    "               [int(pred_prob > 0) for pred_prob in valid_prediction]), 3)))\n",
    "print(\"AUC: {}\".format(round(roc_auc_score(y_valid, valid_prediction), 3)))"
   ]
  },
  {
   "cell_type": "markdown",
   "metadata": {},
   "source": [
    "Same for test file"
   ]
  },
  {
   "cell_type": "code",
   "execution_count": 74,
   "metadata": {
    "collapsed": true
   },
   "outputs": [],
   "source": [
    "!vw -i data/movie_reviews_model.vw -t -d data/movie_reviews_test.vw \\\n",
    "-p data/movie_test_pred.txt --quiet"
   ]
  },
  {
   "cell_type": "code",
   "execution_count": 75,
   "metadata": {},
   "outputs": [
    {
     "name": "stdout",
     "output_type": "stream",
     "text": [
      "Accuracy: 0.785\n",
      "AUC: 0.896\n"
     ]
    }
   ],
   "source": [
    "with open('data/movie_test_pred.txt') as pred_file:\n",
    "    test_prediction = [float(label) \n",
    "                             for label in pred_file.readlines()]\n",
    "print(\"Accuracy: {}\".format(round(accuracy_score(y_test, \n",
    "               [int(pred_prob > 0) for pred_prob in test_prediction]), 3)))\n",
    "print(\"AUC: {}\".format(round(roc_auc_score(y_test, test_prediction), 3)))"
   ]
  },
  {
   "cell_type": "markdown",
   "metadata": {},
   "source": [
    "Tuning bigrams for better results"
   ]
  },
  {
   "cell_type": "code",
   "execution_count": 77,
   "metadata": {
    "collapsed": true
   },
   "outputs": [],
   "source": [
    "!vw -d data/movie_reviews_train.vw \\\n",
    "--loss_function hinge --ngram 2 -f data/movie_reviews_model2.vw --quiet"
   ]
  },
  {
   "cell_type": "code",
   "execution_count": 78,
   "metadata": {
    "collapsed": true
   },
   "outputs": [],
   "source": [
    "!vw -i data/movie_reviews_model2.vw -t -d data/movie_reviews_valid.vw \\\n",
    "-p data/movie_valid_pred2.txt --quiet"
   ]
  },
  {
   "cell_type": "code",
   "execution_count": 79,
   "metadata": {},
   "outputs": [
    {
     "name": "stdout",
     "output_type": "stream",
     "text": [
      "Accuracy: 0.772\n",
      "AUC: 0.912\n"
     ]
    }
   ],
   "source": [
    "with open('data/movie_valid_pred2.txt') as pred_file:\n",
    "    valid_prediction = [float(label) \n",
    "                             for label in pred_file.readlines()]\n",
    "print(\"Accuracy: {}\".format(round(accuracy_score(y_valid, \n",
    "               [int(pred_prob > 0) for pred_prob in valid_prediction]), 3)))\n",
    "print(\"AUC: {}\".format(round(roc_auc_score(y_valid, valid_prediction), 3)))"
   ]
  },
  {
   "cell_type": "code",
   "execution_count": 114,
   "metadata": {
    "collapsed": true
   },
   "outputs": [],
   "source": [
    "!vw -i data/movie_reviews_model.vw -t -d movie_reviews_test.vw \\\n",
    "-p movie_test_pred2.txt --quiet"
   ]
  },
  {
   "cell_type": "code",
   "execution_count": 80,
   "metadata": {},
   "outputs": [
    {
     "name": "stdout",
     "output_type": "stream",
     "text": [
      "Accuracy: 0.785\n",
      "AUC: 0.896\n"
     ]
    }
   ],
   "source": [
    "with open('data/movie_test_pred2.txt') as pred_file:\n",
    "    test_prediction = [float(label) \n",
    "                             for label in pred_file.readlines()]\n",
    "print(\"Accuracy: {}\".format(round(accuracy_score(y_test, \n",
    "               [int(pred_prob > 0) for pred_prob in test_prediction]), 3)))\n",
    "print(\"AUC: {}\".format(round(roc_auc_score(y_test, test_prediction), 3)))"
   ]
  },
  {
   "cell_type": "markdown",
   "metadata": {
    "collapsed": true
   },
   "source": [
    "## Deep learning "
   ]
  },
  {
   "cell_type": "code",
   "execution_count": 81,
   "metadata": {},
   "outputs": [
    {
     "name": "stderr",
     "output_type": "stream",
     "text": [
      "Using TensorFlow backend.\n"
     ]
    }
   ],
   "source": [
    "from keras.models import Sequential\n",
    "from keras.layers import Dense\n",
    "from keras.layers import LSTM\n",
    "from keras.layers import Dropout\n",
    "from keras.layers.convolutional import Conv1D\n",
    "from keras.layers.convolutional import MaxPooling1D\n",
    "from keras.layers.embeddings import Embedding\n",
    "from keras.preprocessing import sequence, text"
   ]
  },
  {
   "cell_type": "markdown",
   "metadata": {},
   "source": [
    "### Preprocessing"
   ]
  },
  {
   "cell_type": "markdown",
   "metadata": {},
   "source": [
    "Constraining the dataset to the top 5,000 words"
   ]
  },
  {
   "cell_type": "code",
   "execution_count": 82,
   "metadata": {
    "collapsed": true
   },
   "outputs": [],
   "source": [
    "top_n_words = 10000"
   ]
  },
  {
   "cell_type": "code",
   "execution_count": 83,
   "metadata": {},
   "outputs": [
    {
     "name": "stdout",
     "output_type": "stream",
     "text": [
      "CPU times: user 3 µs, sys: 0 ns, total: 3 µs\n",
      "Wall time: 6.91 µs\n"
     ]
    }
   ],
   "source": [
    "%time\n",
    "tokenizer = text.Tokenizer(num_words=top_n_words)\n",
    "tokenizer.fit_on_texts(X_train)\n",
    "X_train_sequence = tokenizer.texts_to_sequences(X_train) \n",
    "X_test_sequence = tokenizer.texts_to_sequences(X_test) "
   ]
  },
  {
   "cell_type": "code",
   "execution_count": 84,
   "metadata": {
    "collapsed": true
   },
   "outputs": [],
   "source": [
    "max_review_length = 5000\n",
    "X_train_dl = sequence.pad_sequences(X_train_sequence, maxlen=max_review_length)\n",
    "X_test_dl = sequence.pad_sequences(X_test_sequence, maxlen=max_review_length)"
   ]
  },
  {
   "cell_type": "markdown",
   "metadata": {},
   "source": [
    "Because it is a classifiaction problem, we use logloss as a loss function. As an optimization algorithm ADAM is used."
   ]
  },
  {
   "cell_type": "markdown",
   "metadata": {},
   "source": [
    "###  Model creation"
   ]
  },
  {
   "cell_type": "code",
   "execution_count": 85,
   "metadata": {},
   "outputs": [
    {
     "name": "stdout",
     "output_type": "stream",
     "text": [
      "_________________________________________________________________\n",
      "Layer (type)                 Output Shape              Param #   \n",
      "=================================================================\n",
      "embedding_1 (Embedding)      (None, 5000, 32)          320000    \n",
      "_________________________________________________________________\n",
      "lstm_1 (LSTM)                (None, 100)               53200     \n",
      "_________________________________________________________________\n",
      "dense_1 (Dense)              (None, 1)                 101       \n",
      "=================================================================\n",
      "Total params: 373,301\n",
      "Trainable params: 373,301\n",
      "Non-trainable params: 0\n",
      "_________________________________________________________________\n",
      "None\n",
      "Train on 1280 samples, validate on 400 samples\n",
      "Epoch 1/5\n",
      "1280/1280 [==============================] - 186s 146ms/step - loss: 0.6927 - acc: 0.5352 - val_loss: 0.6912 - val_acc: 0.5800\n",
      "Epoch 2/5\n",
      "1280/1280 [==============================] - 175s 137ms/step - loss: 0.6994 - acc: 0.6469 - val_loss: 0.6658 - val_acc: 0.6025\n",
      "Epoch 3/5\n",
      "1280/1280 [==============================] - 182s 142ms/step - loss: 0.6207 - acc: 0.7711 - val_loss: 0.6569 - val_acc: 0.6375\n",
      "Epoch 4/5\n",
      "1280/1280 [==============================] - 187s 146ms/step - loss: 0.4849 - acc: 0.8711 - val_loss: 0.6135 - val_acc: 0.6525\n",
      "Epoch 5/5\n",
      "1280/1280 [==============================] - 180s 141ms/step - loss: 0.2458 - acc: 0.9219 - val_loss: 0.5543 - val_acc: 0.7375\n"
     ]
    },
    {
     "data": {
      "text/plain": [
       "<keras.callbacks.History at 0x1a13f27a10>"
      ]
     },
     "execution_count": 85,
     "metadata": {},
     "output_type": "execute_result"
    }
   ],
   "source": [
    "embedding_vecor_length = 32\n",
    "model = Sequential()\n",
    "model.add(Embedding(top_n_words, embedding_vecor_length, input_length=max_review_length))\n",
    "model.add(LSTM(100))\n",
    "model.add(Dense(1, activation='sigmoid'))\n",
    "model.compile(loss='binary_crossentropy', optimizer='adam', metrics=['accuracy'])\n",
    "print(model.summary())\n",
    "model.fit(X_train_dl, y_train, validation_data=(X_test_dl, y_test), epochs=5, batch_size=64)"
   ]
  },
  {
   "cell_type": "code",
   "execution_count": 86,
   "metadata": {},
   "outputs": [
    {
     "name": "stdout",
     "output_type": "stream",
     "text": [
      "Accuracy: 0.738\n"
     ]
    }
   ],
   "source": [
    "scores = model.evaluate(X_test_dl, y_test, verbose=0)\n",
    "print \"Accuracy: {}\".format(round(scores[1], 3))"
   ]
  },
  {
   "cell_type": "code",
   "execution_count": 87,
   "metadata": {},
   "outputs": [
    {
     "name": "stdout",
     "output_type": "stream",
     "text": [
      "AUC: 0.819\n"
     ]
    }
   ],
   "source": [
    "y_pred = model.predict_proba(X_test_dl)\n",
    "print \"AUC: {}\".format(round(roc_auc_score(y_test, y_pred), 3))"
   ]
  },
  {
   "cell_type": "markdown",
   "metadata": {},
   "source": [
    "### Dropout"
   ]
  },
  {
   "cell_type": "code",
   "execution_count": 95,
   "metadata": {
    "collapsed": true
   },
   "outputs": [],
   "source": [
    "model = Sequential()\n",
    "model.add(Embedding(top_n_words, embedding_vecor_length, input_length=max_review_length))\n",
    "model.add(Dropout(0.2))\n",
    "model.add(LSTM(100))\n",
    "model.add(Dropout(0.2))\n",
    "model.add(Dense(1, activation='sigmoid'))\n",
    "model.compile(loss='binary_crossentropy', optimizer='adam', metrics=['accuracy'])"
   ]
  },
  {
   "cell_type": "code",
   "execution_count": 96,
   "metadata": {},
   "outputs": [
    {
     "name": "stdout",
     "output_type": "stream",
     "text": [
      "_________________________________________________________________\n",
      "Layer (type)                 Output Shape              Param #   \n",
      "=================================================================\n",
      "embedding_5 (Embedding)      (None, 5000, 32)          320000    \n",
      "_________________________________________________________________\n",
      "dropout_3 (Dropout)          (None, 5000, 32)          0         \n",
      "_________________________________________________________________\n",
      "lstm_5 (LSTM)                (None, 100)               53200     \n",
      "_________________________________________________________________\n",
      "dropout_4 (Dropout)          (None, 100)               0         \n",
      "_________________________________________________________________\n",
      "dense_5 (Dense)              (None, 1)                 101       \n",
      "=================================================================\n",
      "Total params: 373,301\n",
      "Trainable params: 373,301\n",
      "Non-trainable params: 0\n",
      "_________________________________________________________________\n",
      "None\n",
      "Epoch 1/5\n",
      "1280/1280 [==============================] - 168s 132ms/step - loss: 0.6927 - acc: 0.5258\n",
      "Epoch 2/5\n",
      "1280/1280 [==============================] - 176s 138ms/step - loss: 0.6832 - acc: 0.6016\n",
      "Epoch 3/5\n",
      "1280/1280 [==============================] - 168s 131ms/step - loss: 0.6493 - acc: 0.8039\n",
      "Epoch 4/5\n",
      "1280/1280 [==============================] - 157s 123ms/step - loss: 0.5214 - acc: 0.8133\n",
      "Epoch 5/5\n",
      "1280/1280 [==============================] - 165s 129ms/step - loss: 0.4218 - acc: 0.8492\n"
     ]
    },
    {
     "data": {
      "text/plain": [
       "<keras.callbacks.History at 0x1a3a927bd0>"
      ]
     },
     "execution_count": 96,
     "metadata": {},
     "output_type": "execute_result"
    }
   ],
   "source": [
    "print(model.summary())\n",
    "model.fit(X_train_dl, y_train, epochs=5, batch_size=64)"
   ]
  },
  {
   "cell_type": "code",
   "execution_count": 97,
   "metadata": {},
   "outputs": [
    {
     "name": "stdout",
     "output_type": "stream",
     "text": [
      "Accuracy: 0.652\n"
     ]
    }
   ],
   "source": [
    "scores = model.evaluate(X_test_dl, y_test, verbose=0)\n",
    "print \"Accuracy: {}\".format(round(scores[1], 3))"
   ]
  },
  {
   "cell_type": "code",
   "execution_count": 98,
   "metadata": {},
   "outputs": [
    {
     "name": "stdout",
     "output_type": "stream",
     "text": [
      "AUC: 0.687\n"
     ]
    }
   ],
   "source": [
    "y_pred = model.predict_proba(X_test_dl)\n",
    "print \"AUC: {}\".format(round(roc_auc_score(y_test, y_pred), 3))"
   ]
  },
  {
   "cell_type": "markdown",
   "metadata": {},
   "source": [
    "## CNN"
   ]
  },
  {
   "cell_type": "code",
   "execution_count": 94,
   "metadata": {},
   "outputs": [
    {
     "name": "stdout",
     "output_type": "stream",
     "text": [
      "_________________________________________________________________\n",
      "Layer (type)                 Output Shape              Param #   \n",
      "=================================================================\n",
      "embedding_4 (Embedding)      (None, 5000, 32)          320000    \n",
      "_________________________________________________________________\n",
      "conv1d_2 (Conv1D)            (None, 5000, 32)          3104      \n",
      "_________________________________________________________________\n",
      "max_pooling1d_2 (MaxPooling1 (None, 2500, 32)          0         \n",
      "_________________________________________________________________\n",
      "lstm_4 (LSTM)                (None, 100)               53200     \n",
      "_________________________________________________________________\n",
      "dense_4 (Dense)              (None, 1)                 101       \n",
      "=================================================================\n",
      "Total params: 376,405\n",
      "Trainable params: 376,405\n",
      "Non-trainable params: 0\n",
      "_________________________________________________________________\n",
      "None\n",
      "Epoch 1/5\n",
      "1280/1280 [==============================] - 85s 66ms/step - loss: 0.6933 - acc: 0.5008\n",
      "Epoch 2/5\n",
      "1280/1280 [==============================] - 78s 61ms/step - loss: 0.6848 - acc: 0.5695\n",
      "Epoch 3/5\n",
      "1280/1280 [==============================] - 90s 71ms/step - loss: 0.6486 - acc: 0.5523\n",
      "Epoch 4/5\n",
      "1280/1280 [==============================] - 90s 71ms/step - loss: 0.6085 - acc: 0.8188\n",
      "Epoch 5/5\n",
      "1280/1280 [==============================] - 91s 71ms/step - loss: 0.4431 - acc: 0.8906\n",
      "Accuracy: 0.715\n",
      "AUC: 0.801\n"
     ]
    }
   ],
   "source": [
    "numpy.random.seed(17)\n",
    "model = Sequential()\n",
    "model.add(Embedding(top_n_words, embedding_vecor_length, input_length=max_review_length))\n",
    "model.add(Conv1D(filters=32, kernel_size=3, padding='same', activation='relu'))\n",
    "model.add(MaxPooling1D(pool_size=2))\n",
    "model.add(LSTM(100))\n",
    "model.add(Dense(1, activation='sigmoid'))\n",
    "\n",
    "model.compile(loss='binary_crossentropy', optimizer='adam', metrics=['accuracy'])\n",
    "print(model.summary())\n",
    "model.fit(X_train_dl, y_train, epochs=5, batch_size=64)\n",
    "\n",
    "scores = model.evaluate(X_test_dl, y_test, verbose=0)\n",
    "print \"Accuracy: {}\".format(round(scores[1], 3))\n",
    "y_pred = model.predict_proba(X_test_dl)\n",
    "print \"AUC: {}\".format(round(roc_auc_score(y_test, y_pred), 3))"
   ]
  },
  {
   "cell_type": "code",
   "execution_count": null,
   "metadata": {
    "collapsed": true
   },
   "outputs": [],
   "source": []
  }
 ],
 "metadata": {
  "kernelspec": {
   "display_name": "Python 2",
   "language": "python",
   "name": "python2"
  },
  "language_info": {
   "codemirror_mode": {
    "name": "ipython",
    "version": 2
   },
   "file_extension": ".py",
   "mimetype": "text/x-python",
   "name": "python",
   "nbconvert_exporter": "python",
   "pygments_lexer": "ipython2",
   "version": "2.7.13"
  }
 },
 "nbformat": 4,
 "nbformat_minor": 2
}
